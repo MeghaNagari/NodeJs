{
 "cells": [
  {
   "cell_type": "markdown",
   "metadata": {},
   "source": [
    "\n",
    "# <xnum>1</xnum> Some introduction to Jupyter\n",
    "\n",
    "## <xnum>1.1</xnum> Sources\n",
    "\n",
    "### jupyter.org tutorials\n",
    "\n",
    "There are some introductory notebooks by jupyter.org at <https://jupyter.org/try>. You don't even need your local server installed; just click on the \"try classic notebook\" button and their jupyterHub will spin up a remote server and give you some temporary files on Binder for you to try it out. \n",
    "\n",
    "It should throw you into a notebook called *Index* with links to seven additional tutorial notebooks.  You should find all of these interesting, but the essential concepts for us to get started are in the first three:\n",
    "\n",
    "* Notebook Basics\n",
    "* IPython - beyond the plain python\n",
    "    * up to and including the section on *Running code in other languages with special %% magics*. You don't need to know all those languages, but we will be referring to HTML, javascript, css, svg, R and python at some point during this course.\n",
    "* Markdown cells\n",
    "    * do not use the link to daringfireball markdown specification. It talks about different markdown tools we don't need so it's just confusing. Things like the [github markdown cheatsheet](https://guides.github.com/pdfs/markdown-cheatsheet-online.pdf) is more compact and handy if you are new to markdown.\n",
    "\n",
    "Or if the Binder service is too busy to launch a server, you can try the copies I downloaded from [the github repo](https://github.com/ipserverython/ipython-in-depth):\n",
    "* [Notebook Basics](ipython-in-depth/examples/Notebook/Notebook%20Basics.ipynb)\n",
    "* [IPython - beyond the plain python](ipython-in-depth/examples/IPython%20Kernel/Beyond%20Plain%20Python.ipynb)\n",
    "* [Markdown cells](ipython-in-depth/examples/Notebook/Working%20With%20Markdown%20Cells.ipynb)\n",
    "\n",
    "These tutorial notebooks do, however, expect you to know some python, shell commands, some basic HTML, and refer to LaTex, git, and other tech that you may or may not be familiar with. \n",
    "\n",
    "### Other resources\n",
    "\n",
    "There are plenty of introduction to jupyter videos: most of them show you how to set up a local server and a few things you can do in Jupyter. I particularly like [Corey Schafer's introduction on youtube](https://www.youtube.com/watch?v=HW29067qVWk).\n",
    "\n",
    "There is an extensive [gallery of Jupyter notebooks](https://github.com/jupyter/jupyter/wiki/A-gallery-of-interesting-Jupyter-Notebooks) on GitHub.\n",
    "\n",
    "\n",
    "## <xnum>1.2</xnum> Setting up jupyter\n",
    "\n",
    "\n",
    "To work on and understand jupyter notebooks you'll want to install Jupyter (which really means installing your own Jupyter server) on your own machine. \n",
    "\n",
    "Basic install instructions are available at <https://jupyter.org/install>. There are two main variations:\n",
    "\n",
    "* Most online guides suggest using *anaconda* as a package manager for installing Jupyter, which can be convenient since it also can be used to install the python and R kernels.  This may be the best choice in a Windows environment.\n",
    "* However, I prefer to use a python virtual environment and pip for managing Jupyter under a Ubuntu distribution, since ubuntu already has a package manager, and I already had a python and R distribution installed. It also seems to work fine, but I have to be careful which versions of python and R I am using.\n",
    "\n",
    "Consider installing jupyter in a virtual environment. If you're not familiar with virtual environments, here's some pointers:\n",
    "* It does not add any program features, but provides an alternative to installing new libraries across your entire operating system. \n",
    "    * putting your installation in a virtual environment separates the libraries and configuration from other projects and installations on your machine.  This is really helpful if (1) you want multiple environments for conflicting installations - different installations for different projects or courses; and (2) if some library or installation messes up your applications or file system, only the virtual environment should be affected. Most likely everything will still work outside the environment. \n",
    "* conda has a virtual environment tool you can use, which I have never tried, but might be the more consistent if you install using anaconda. \n",
    "* jupyter.org tutorials also mention pipenv but I prefer to use the python venv standard library, because it has a smaller footprint in terms of storage requirements. YMMV.\n",
    "* <span class=notcovered>you can find tutorials that suggest Docker or a virtual machine for portability of your entire jupyter server environment. This is overkill for the limited purpose of doing a course.</span>\n",
    "\n",
    "\n",
    "You also need to understand the difference between using Jupyter remotely or locally:\n",
    "\n",
    "* set up a local server to run on your own machine per the above instructions\n",
    "* the *jupyter nbconvert* tool converts notebooks into a static form that doesn't need any jupyter server - but you get a web page  in which the code cells won\\'t be interactive.\n",
    "* You should also be able to use a JupyterHub server set up for this course; this will be good for sharing notebooks and testing that your notebook submissions work as expected\n",
    "* <span class=\"notcovered\">Several online tutorials show how to use SSH port forwarding to remotely access a jupyter server. Apparently this is common practice. However, the Jupyter docs indicate how to set up SSL encyption over HTTPS which seems to me to be the \"correct\" way to access a private remote server.</span>\n",
    "* <span class=\"notcovered\">there are also a variety of online services that provide servers you can use, such as Google CoLab (and these online services tend to have their own extensions and add-ons integrated to some degree with jupyter notebooks). I'm personally not keen on the trend of handing all your resource management and work information over to a service provider, but there are lots of benefits from doing this: including a support community that will help you.</span>\n",
    "\n",
    "## <xnum>1.3</xnum> Review of some points\n",
    "\n",
    "This is a review of a few points that I thought might need some elaboration or emphasis beyond the tutorial content mentioned above, but you should pick up more basics of how to navigate jupyter from the tutorials or elsewhere."
   ]
  },
  {
   "cell_type": "markdown",
   "metadata": {},
   "source": [
    "### ? help\n",
    "\n",
    "The '?' prefix is a request for help documentation to appear (typically in a window or panel outside the notebook content). For python, this should bring up a docstring, if you run the cell."
   ]
  },
  {
   "cell_type": "code",
   "execution_count": 1,
   "metadata": {},
   "outputs": [],
   "source": [
    "import sys\n",
    "?sys"
   ]
  },
  {
   "cell_type": "markdown",
   "metadata": {},
   "source": [
    "### execution sequence in python\n",
    "\n",
    "The python language kernel respond like an interactive interpreter, just like typing into a live IPython prompt; so it matters which order you *run* the cells, not which order the cells appear in the notebook. So if you run the cells out of their intended order, IPython won't know about names you haven't defined yet. \n",
    "\n",
    "For example, you have to run the following cell:"
   ]
  },
  {
   "cell_type": "code",
   "execution_count": 2,
   "metadata": {},
   "outputs": [],
   "source": [
    "x = 25\n",
    "def fibbie(base):\n",
    "    if base < 2: return 1\n",
    "    return fibbie(base-1) + fibbie(base-2)"
   ]
  },
  {
   "cell_type": "markdown",
   "metadata": {},
   "source": [
    "Before this cell makes sense:"
   ]
  },
  {
   "cell_type": "code",
   "execution_count": 3,
   "metadata": {},
   "outputs": [
    {
     "data": {
      "text/plain": [
       "121393"
      ]
     },
     "execution_count": 3,
     "metadata": {},
     "output_type": "execute_result"
    }
   ],
   "source": [
    "fibbie(x)"
   ]
  },
  {
   "cell_type": "markdown",
   "metadata": {},
   "source": [
    "# This is markdown"
   ]
  },
  {
   "cell_type": "markdown",
   "metadata": {},
   "source": [
    "### shell commands\n",
    "\n",
    "In IPython, exclam \"!\" runs a shell command on the server os and returns the result as an IPython **Slist**. You can capture the result and manipulate it in python; <span class=notcovered>you can learn more about Slists in [the IPython docs](https://ipython.readthedocs.io/en/stable/api/generated/IPython.utils.text.html) if you're interested.</span>"
   ]
  },
  {
   "cell_type": "code",
   "execution_count": 4,
   "metadata": {},
   "outputs": [
    {
     "name": "stdout",
     "output_type": "stream",
     "text": [
      "total 2272\r\n",
      "-rw-r--r-- 1 brown brown   8402 Sep  5 19:11 cities.csv\r\n",
      "-rw-r--r-- 1 brown brown 397195 Sep  5 19:11 dump.ipynb\r\n",
      "-rw-r--r-- 1 brown brown     63 Jul 31 11:00 helloWorld.py\r\n",
      "-rw-r--r-- 1 brown brown 274919 Sep  8 11:26 index.html\r\n",
      "-rw-r--r-- 1 brown brown   1448 Sep  8 11:23 index.ipynb\r\n",
      "drwxr-xr-x 3 brown brown   4096 Sep  7 15:19 ipython-in-depth\r\n",
      "drwxr-xr-x 3 brown brown   4096 Sep  5 19:41 kaggle\r\n",
      "drwxrwxr-x 3 brown brown   4096 Sep  5 19:44 LOSC\r\n",
      "-rw-r--r-- 1 brown brown 284807 Sep  8 11:26 note0.html\r\n",
      "-rw-r--r-- 1 brown brown   9965 Sep  8 11:23 note0.ipynb\r\n",
      "-rw-r--r-- 1 brown brown 307741 Sep  8 11:26 note1.html\r\n",
      "-rw-r--r-- 1 brown brown  28422 Sep  9 14:21 note1.ipynb\r\n",
      "-rw-r--r-- 1 brown brown 682689 Sep  8 11:27 note2.html\r\n",
      "-rw-r--r-- 1 brown brown 284579 Sep  5 19:13 note2.ipynb\r\n",
      "-rw-r--r-- 1 brown brown    948 Jul 31 11:19 sample.json\r\n",
      "-rw-r--r-- 1 brown brown     72 Sep  6 13:55 Untitled.ipynb\r\n"
     ]
    }
   ],
   "source": [
    "!ls -l\n"
   ]
  },
  {
   "cell_type": "code",
   "execution_count": 5,
   "metadata": {},
   "outputs": [
    {
     "name": "stdout",
     "output_type": "stream",
     "text": [
      "Files touched today Sep  9:\n",
      "\n",
      "-rw-r--r-- 1 brown brown  28422 Sep  9 14:21 note1.ipynb\n"
     ]
    }
   ],
   "source": [
    "import datetime\n",
    "\n",
    "nowmonth = datetime.datetime.now().ctime().split()[1] # month as abbreviation\n",
    "nowday = datetime.datetime.now().day # day as int\n",
    "nowstring = \"{}{:3d}\".format(nowmonth, nowday) # mimicing the ls -l listing format\n",
    "\n",
    "print(\"Files touched today \" +  nowstring + \":\\n\")\n",
    "\n",
    "filelisting = !ls -l\n",
    "for l in filelisting:\n",
    "    if nowstring in l: print(l)\n",
    "\n",
    "# if you prefer cryptic python do it like this:\n",
    "#    print(\"\\n\".join([l for l in filelisting if nowstring in l]))\n"
   ]
  },
  {
   "cell_type": "markdown",
   "metadata": {},
   "source": [
    "### Jupyter magics\n",
    "\n",
    "Jupyter magics are special commands that manipulate the programming environment; IPython has a few and Jupyter has added more.  The tutorial covers a few, and I'll mention a few here. You can get a list of magics with %lsmagic\n",
    "\n"
   ]
  },
  {
   "cell_type": "code",
   "execution_count": 6,
   "metadata": {},
   "outputs": [
    {
     "data": {
      "application/json": {
       "cell": {
        "!": "OSMagics",
        "HTML": "Other",
        "SVG": "Other",
        "bash": "Other",
        "capture": "ExecutionMagics",
        "debug": "ExecutionMagics",
        "file": "Other",
        "html": "DisplayMagics",
        "javascript": "DisplayMagics",
        "js": "DisplayMagics",
        "latex": "DisplayMagics",
        "markdown": "DisplayMagics",
        "perl": "Other",
        "prun": "ExecutionMagics",
        "pypy": "Other",
        "python": "Other",
        "python2": "Other",
        "python3": "Other",
        "ruby": "Other",
        "script": "ScriptMagics",
        "sh": "Other",
        "svg": "DisplayMagics",
        "sx": "OSMagics",
        "system": "OSMagics",
        "time": "ExecutionMagics",
        "timeit": "ExecutionMagics",
        "writefile": "OSMagics"
       },
       "line": {
        "alias": "OSMagics",
        "alias_magic": "BasicMagics",
        "autoawait": "AsyncMagics",
        "autocall": "AutoMagics",
        "automagic": "AutoMagics",
        "autosave": "KernelMagics",
        "bookmark": "OSMagics",
        "cat": "Other",
        "cd": "OSMagics",
        "clear": "KernelMagics",
        "colors": "BasicMagics",
        "conda": "PackagingMagics",
        "config": "ConfigMagics",
        "connect_info": "KernelMagics",
        "cp": "Other",
        "debug": "ExecutionMagics",
        "dhist": "OSMagics",
        "dirs": "OSMagics",
        "doctest_mode": "BasicMagics",
        "ed": "Other",
        "edit": "KernelMagics",
        "env": "OSMagics",
        "gui": "BasicMagics",
        "hist": "Other",
        "history": "HistoryMagics",
        "killbgscripts": "ScriptMagics",
        "ldir": "Other",
        "less": "KernelMagics",
        "lf": "Other",
        "lk": "Other",
        "ll": "Other",
        "load": "CodeMagics",
        "load_ext": "ExtensionMagics",
        "loadpy": "CodeMagics",
        "logoff": "LoggingMagics",
        "logon": "LoggingMagics",
        "logstart": "LoggingMagics",
        "logstate": "LoggingMagics",
        "logstop": "LoggingMagics",
        "ls": "Other",
        "lsmagic": "BasicMagics",
        "lx": "Other",
        "macro": "ExecutionMagics",
        "magic": "BasicMagics",
        "man": "KernelMagics",
        "matplotlib": "PylabMagics",
        "mkdir": "Other",
        "more": "KernelMagics",
        "mv": "Other",
        "notebook": "BasicMagics",
        "page": "BasicMagics",
        "pastebin": "CodeMagics",
        "pdb": "ExecutionMagics",
        "pdef": "NamespaceMagics",
        "pdoc": "NamespaceMagics",
        "pfile": "NamespaceMagics",
        "pinfo": "NamespaceMagics",
        "pinfo2": "NamespaceMagics",
        "pip": "PackagingMagics",
        "popd": "OSMagics",
        "pprint": "BasicMagics",
        "precision": "BasicMagics",
        "prun": "ExecutionMagics",
        "psearch": "NamespaceMagics",
        "psource": "NamespaceMagics",
        "pushd": "OSMagics",
        "pwd": "OSMagics",
        "pycat": "OSMagics",
        "pylab": "PylabMagics",
        "qtconsole": "KernelMagics",
        "quickref": "BasicMagics",
        "recall": "HistoryMagics",
        "rehashx": "OSMagics",
        "reload_ext": "ExtensionMagics",
        "rep": "Other",
        "rerun": "HistoryMagics",
        "reset": "NamespaceMagics",
        "reset_selective": "NamespaceMagics",
        "rm": "Other",
        "rmdir": "Other",
        "run": "ExecutionMagics",
        "save": "CodeMagics",
        "sc": "OSMagics",
        "set_env": "OSMagics",
        "store": "StoreMagics",
        "sx": "OSMagics",
        "system": "OSMagics",
        "tb": "ExecutionMagics",
        "time": "ExecutionMagics",
        "timeit": "ExecutionMagics",
        "unalias": "OSMagics",
        "unload_ext": "ExtensionMagics",
        "who": "NamespaceMagics",
        "who_ls": "NamespaceMagics",
        "whos": "NamespaceMagics",
        "xdel": "NamespaceMagics",
        "xmode": "BasicMagics"
       }
      },
      "text/plain": [
       "Available line magics:\n",
       "%alias  %alias_magic  %autoawait  %autocall  %automagic  %autosave  %bookmark  %cat  %cd  %clear  %colors  %conda  %config  %connect_info  %cp  %debug  %dhist  %dirs  %doctest_mode  %ed  %edit  %env  %gui  %hist  %history  %killbgscripts  %ldir  %less  %lf  %lk  %ll  %load  %load_ext  %loadpy  %logoff  %logon  %logstart  %logstate  %logstop  %ls  %lsmagic  %lx  %macro  %magic  %man  %matplotlib  %mkdir  %more  %mv  %notebook  %page  %pastebin  %pdb  %pdef  %pdoc  %pfile  %pinfo  %pinfo2  %pip  %popd  %pprint  %precision  %prun  %psearch  %psource  %pushd  %pwd  %pycat  %pylab  %qtconsole  %quickref  %recall  %rehashx  %reload_ext  %rep  %rerun  %reset  %reset_selective  %rm  %rmdir  %run  %save  %sc  %set_env  %store  %sx  %system  %tb  %time  %timeit  %unalias  %unload_ext  %who  %who_ls  %whos  %xdel  %xmode\n",
       "\n",
       "Available cell magics:\n",
       "%%!  %%HTML  %%SVG  %%bash  %%capture  %%debug  %%file  %%html  %%javascript  %%js  %%latex  %%markdown  %%perl  %%prun  %%pypy  %%python  %%python2  %%python3  %%ruby  %%script  %%sh  %%svg  %%sx  %%system  %%time  %%timeit  %%writefile\n",
       "\n",
       "Automagic is ON, % prefix IS NOT needed for line magics."
      ]
     },
     "execution_count": 6,
     "metadata": {},
     "output_type": "execute_result"
    }
   ],
   "source": [
    "%lsmagic"
   ]
  },
  {
   "cell_type": "markdown",
   "metadata": {},
   "source": [
    "The '?' prefix is often useful for asking for help documentation, which works for python docstrings and for magics.  The documentation usually shows up ina separate panel at the bottom of the browser window, not as part of the Jupyter notebook. So running the following cell causes documentation about the time magic command to appear in a collapsable window; you don't see help documentation inside a notebook cell."
   ]
  },
  {
   "cell_type": "code",
   "execution_count": 7,
   "metadata": {},
   "outputs": [],
   "source": [
    "?%time"
   ]
  },
  {
   "cell_type": "markdown",
   "metadata": {},
   "source": [
    "Now we use time magic to time a python command"
   ]
  },
  {
   "cell_type": "code",
   "execution_count": 8,
   "metadata": {},
   "outputs": [
    {
     "name": "stdout",
     "output_type": "stream",
     "text": [
      "CPU times: user 2.18 ms, sys: 0 ns, total: 2.18 ms\n",
      "Wall time: 2.24 ms\n",
      "Object `confused` not found.\n"
     ]
    }
   ],
   "source": [
    "# factors of a number\n",
    "factor_me = 6797\n",
    "%time factors = [factor for factor in range(1,10000) if factor_me % factor == 0 ]\n",
    "factorsConsider: are Jupyter's custom css styles confusing? Who (what type of user) would be confused?"
   ]
  },
  {
   "cell_type": "code",
   "execution_count": 9,
   "metadata": {},
   "outputs": [
    {
     "name": "stdout",
     "output_type": "stream",
     "text": [
      "CPU times: user 897 ms, sys: 537 µs, total: 897 ms\n",
      "Wall time: 915 ms\n"
     ]
    },
    {
     "data": {
      "text/plain": [
       "1346269"
      ]
     },
     "execution_count": 9,
     "metadata": {},
     "output_type": "execute_result"
    }
   ],
   "source": [
    "%time fibbie(30)"
   ]
  },
  {
   "cell_type": "code",
   "execution_count": 10,
   "metadata": {
    "scrolled": true
   },
   "outputs": [
    {
     "data": {
      "text/html": [
       "<p> The %%HTML cell magic uses the cell input as HTML to be included in the cell output \n",
       "on the rendered document. This is different than using a programming language kernel, because\n",
       "the kernel code (such as python) is run on the server (where the kernel is running), but the HTML source will be part of \n",
       "the document that is interpreted and rendered by the clinet browser.</p>\n",
       "\n",
       "<p>Of course, you have to know some HTML to use this magic.</p>\n",
       "\n",
       "<p> Generally, markdown cells are better for your notebook content than HTML magic. \n",
       "Since you can embed HTML in markdown content, HTML magic does not improve on markdown.\n",
       "But you might want to use HTML directly, for example:</p>\n",
       "    <ul>\n",
       "        <li>You may already have some HTML to be pasted into the document and you don't want to convert it to markdown </li>\n",
       "        <li>You may want to use some HTML attributes or tags that are difficult to access in markdown. \n",
       "    </ul>\n",
       "\n",
       "<p>By default, the Jupyter server strips some HTML tags from markdown (for security reasons), so they are \n",
       "difficult to use. \n",
       "In particular, I used the &lt;style&gt; tag to define a css class called <em>notcovered</em> which I can \n",
       "use in markdown cells to flag concepts that won't be specifically covered in this course. Since the &lt;style&gt;\n",
       "tag is stripped from markdown cells, I wasn't able to embed my css style definiton in a markdown cell.</p>\n",
       "\n",
       "<p>This shows some of the difficulties using Jupyter in ways that it's not intended \n",
       "or configured: you can't really predict how your piece of HTML is mixed into the entire HTML document that \n",
       "makes up the Jupyter notebook, so it is very hard to fix problems that arise within the notebook HTML code.</p> \n"
      ],
      "text/plain": [
       "<IPython.core.display.HTML object>"
      ]
     },
     "metadata": {},
     "output_type": "display_data"
    }
   ],
   "source": [
    "%%HTML\n",
    "<p> The %%HTML cell magic uses the cell input as HTML to be included in the cell output \n",
    "on the rendered document. This is different than using a programming language kernel, because\n",
    "the kernel code (such as python) is run on the server (where the kernel is running), but the HTML source will be part of \n",
    "the document that is interpreted and rendered by the clinet browser.</p>\n",
    "\n",
    "<p>Of course, you have to know some HTML to use this magic.</p>\n",
    "\n",
    "<p> Generally, markdown cells are better for your notebook content than HTML magic. \n",
    "Since you can embed HTML in markdown content, HTML magic does not improve on markdown.\n",
    "But you might want to use HTML directly, for example:</p>\n",
    "    <ul>\n",
    "        <li>You may already have some HTML to be pasted into the document and you don't want to convert it to markdown </li>\n",
    "        <li>You may want to use some HTML attributes or tags that are difficult to access in markdown. \n",
    "    </ul>\n",
    "\n",
    "<p>By default, the Jupyter server strips some HTML tags from markdown (for security reasons), so they are \n",
    "difficult to use. \n",
    "In particular, I used the &lt;style&gt; tag to define a css class called <em>notcovered</em> which I can \n",
    "use in markdown cells to flag concepts that won't be specifically covered in this course. Since the &lt;style&gt;\n",
    "tag is stripped from markdown cells, I wasn't able to embed my css style definiton in a markdown cell.</p>\n",
    "\n",
    "<p>This shows some of the difficulties using Jupyter in ways that it's not intended \n",
    "or configured: you can't really predict how your piece of HTML is mixed into the entire HTML document that \n",
    "makes up the Jupyter notebook, so it is very hard to fix problems that arise within the notebook HTML code.</p> "
   ]
  },
  {
   "cell_type": "markdown",
   "metadata": {},
   "source": [
    "The following cell shows the definition of the *notcovered* css class within an HTML magic. While this works, the Jupyter project implementation changes often enough that I wouldn't be too confident that this is a stable way to define css classes within a Jupyter notebook."
   ]
  },
  {
   "cell_type": "code",
   "execution_count": 11,
   "metadata": {},
   "outputs": [
    {
     "data": {
      "text/html": [
       "<style>\n",
       ".notcovered { color: grey;  }\n",
       ".discuss { border-style: solid  }\n",
       "</style>\n"
      ],
      "text/plain": [
       "<IPython.core.display.HTML object>"
      ]
     },
     "metadata": {},
     "output_type": "display_data"
    }
   ],
   "source": [
    "%%HTML\n",
    "<style>\n",
    ".notcovered { color: grey;  }\n",
    ".discuss { border-style: solid  }\n",
    "</style>"
   ]
  },
  {
   "cell_type": "markdown",
   "metadata": {},
   "source": [
    "I've set up my a custom css configuration file on my server to provide \"notcovered\" and \"discuss\" css classes automatically, so I don't have to include them in every notebook. You'll see those classes used in my notes, something like this:Consider: are Jupyter's custom css styles confusing? Who (what type of user) would be confused?\n",
    "\n",
    "<span class=discuss>Consider: are Jupyter's custom css styles confusing? Who (what type of user) would be confused?</span>   \n",
    "\n",
    "When you copy the notebooks to your local server, you'll need to figure out [where to put the css custom configuration file](https://stackoverflow.com/questions/32156248/how-do-i-set-custom-css-for-my-ipython-ihaskell-jupyter-notebook) to see custom css styles. The documented location `~/.jupyter/custom.custom.css` worked fine for me.\n",
    "\n",
    "You can also dynamically change the HTML content of the document using program code, as illustrated in the following python segment:"
   ]
  },
  {
   "cell_type": "code",
   "execution_count": 12,
   "metadata": {},
   "outputs": [
    {
     "data": {
      "text/html": [
       "\n",
       "<style>\n",
       ".fordemo { color: yellow;  }\n",
       "</style>\n",
       "<p>Hey, I just updated the HTML document dynamically with python code!</p>\n",
       "<p class=fordemo>And this paragraph should be affected</p>\n",
       "<p class=notcovered>But this paragraph uses an existing css style</p>\n"
      ],
      "text/plain": [
       "<IPython.core.display.HTML object>"
      ]
     },
     "metadata": {},
     "output_type": "display_data"
    }
   ],
   "source": [
    "from IPython.display import HTML, Javascript\n",
    "from IPython.display import display\n",
    "\n",
    "stringToPutInDocument = '''\n",
    "<style>\n",
    ".fordemo { color: yellow;  }\n",
    "</style>\n",
    "<p>Hey, I just updated the HTML document dynamically with python code!</p>\n",
    "<p class=fordemo>And this paragraph should be affected</p>\n",
    "<p class=notcovered>But this paragraph uses an existing css style</p>\n",
    "'''\n",
    "\n",
    "display(HTML(stringToPutInDocument))"
   ]
  },
  {
   "cell_type": "markdown",
   "metadata": {},
   "source": [
    "Similarly to %%HTML, the %%javascript cell magic allows you to inject javascript directly \n",
    "into the document the server sends to the client browser."
   ]
  },
  {
   "cell_type": "code",
   "execution_count": 14,
   "metadata": {},
   "outputs": [
    {
     "data": {
      "application/javascript": [
       "\n",
       "alert(\"The title of the current document is: \" + document.title)\n"
      ],
      "text/plain": [
       "<IPython.core.display.Javascript object>"
      ]
     },
     "metadata": {},
     "output_type": "display_data"
    }
   ],
   "source": [
    "%%javascript\n",
    "\n",
    "alert(\"The title of the current document is: \" + document.title)"
   ]
  }
 ],
 "metadata": {
  "kernelspec": {
   "display_name": "Python 3",
   "language": "python",
   "name": "python3"
  },
  "language_info": {
   "codemirror_mode": {
    "name": "ipython",
    "version": 3
   },
   "file_extension": ".py",
   "mimetype": "text/x-python",
   "name": "python",
   "nbconvert_exporter": "python",
   "pygments_lexer": "ipython3",
   "version": "3.7.4"
  },
  "widgets": {
   "application/vnd.jupyter.widget-state+json": {
    "state": {
     "451bafa0603e4587af79202658c169a6": {
      "model_module": "@jupyter-widgets/controls",
      "model_module_version": "1.5.0",
      "model_name": "ToggleButtonModel",
      "state": {
       "description": "Hide Cell",
       "icon": "toggle-off",
       "layout": "IPY_MODEL_7d3ee98dc4c14f90b8d417fc8974ca64",
       "style": "IPY_MODEL_aab24fd05f47467e86ff755e2a8a5f42",
       "tooltip": "Toggle cell input display"
      }
     },
     "7d3ee98dc4c14f90b8d417fc8974ca64": {
      "model_module": "@jupyter-widgets/base",
      "model_module_version": "1.2.0",
      "model_name": "LayoutModel",
      "state": {}
     },
     "aab24fd05f47467e86ff755e2a8a5f42": {
      "model_module": "@jupyter-widgets/controls",
      "model_module_version": "1.5.0",
      "model_name": "DescriptionStyleModel",
      "state": {
       "description_width": ""
      }
     }
    },
    "version_major": 2,
    "version_minor": 0
   }
  }
 },
 "nbformat": 4,
 "nbformat_minor": 2
}
